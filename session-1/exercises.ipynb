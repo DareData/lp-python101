{
 "cells": [
  {
   "cell_type": "markdown",
   "metadata": {},
   "source": [
    "# Exercises\n",
    "\n",
    "\n",
    "## General Python\n",
    "\n",
    "Let's build a simple **form application**. Your task will be to **ask the users some information**, **store it** in variables, perform **simple operations** and **display a user report** in the end. The form must:\n",
    "  1. Ask for the user's name, weirdest habit, favourite hobbie and best quality;\n",
    "  2. Store the informations in variables, which are easily readable;\n",
    "  3. Display a profile report about the user."
   ]
  },
  {
   "cell_type": "code",
   "execution_count": null,
   "metadata": {},
   "outputs": [],
   "source": [
    "### BUILD YOUR APP HERE"
   ]
  },
  {
   "cell_type": "markdown",
   "metadata": {},
   "source": [
    "## Choosing Data Types\n",
    "\n",
    "For the following variables, assign the most appropriate data type:\n",
    "\n",
    "  1. A cat's name;\n",
    "  2. Personality traits of your colleague;\n",
    "  3. Conversion rate between kilometer and mile;\n",
    "  4. Translation between spanish and english, word by word (like in the old-time Google Translate);\n",
    "  5. Number of olympic swimming pools in the world"
   ]
  },
  {
   "cell_type": "code",
   "execution_count": 1,
   "metadata": {},
   "outputs": [],
   "source": [
    "### ASSIGN DATA TYPES HERE\n",
    "# Cat's name -\n",
    "# Personality traits -\n",
    "# Conversion rate km/mile -\n",
    "# Translation es/en -\n",
    "# Swimming pools -"
   ]
  },
  {
   "cell_type": "markdown",
   "metadata": {},
   "source": [
    "\n",
    "## Googling Skills\n",
    "\n",
    "Search what is the Pythonic way to\n",
    "- Get the number of items in a dict, set, tuple and list\n",
    "- Check if an element exists in a dict, set, tuple or list\n",
    "- Change the value of a specific element in a list (e.g. 2nd item) \n",
    "- Reverse the items in a list"
   ]
  },
  {
   "cell_type": "code",
   "execution_count": null,
   "metadata": {
    "slideshow": {
     "slide_type": "slide"
    },
    "tags": []
   },
   "outputs": [],
   "source": [
    "### SOLUTION\n",
    "# number of items -\n",
    "# element exists -\n",
    "# change value - \n",
    "# reverse items - "
   ]
  },
  {
   "cell_type": "markdown",
   "metadata": {},
   "source": [
    "## DataFrames\n",
    "\n",
    "Use the practice code block below to find out the answers on `pandas` and DataFrames.\n",
    "\n",
    "  1. What is the dtype of a Series with mixed data types? e.g. float, int, strings\n",
    "  2. Create a DataFrame from a dict. e.g. band DataFrame from the learning notebook\n",
    "  3. In separate cells, get the first and last 5 elements of the new dataframe (tip: methods from Basic Functionality section)\n"
   ]
  },
  {
   "cell_type": "code",
   "execution_count": null,
   "metadata": {},
   "outputs": [],
   "source": [
    "### DATAFRAMES PRACTICE BLOCK"
   ]
  }
 ],
 "metadata": {
  "interpreter": {
   "hash": "62450144029c700d9828a520a84c849f57ec997bbb5cd86252d9dcd358a93bcf"
  },
  "kernelspec": {
   "display_name": "Python 3 (ipykernel)",
   "language": "python",
   "name": "python3"
  },
  "language_info": {
   "codemirror_mode": {
    "name": "ipython",
    "version": 3
   },
   "file_extension": ".py",
   "mimetype": "text/x-python",
   "name": "python",
   "nbconvert_exporter": "python",
   "pygments_lexer": "ipython3",
   "version": "3.10.12"
  }
 },
 "nbformat": 4,
 "nbformat_minor": 4
}
