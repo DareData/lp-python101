{
 "cells": [
  {
   "cell_type": "markdown",
   "id": "1dbbbc55-e911-45fe-8902-f0fac7799054",
   "metadata": {},
   "source": [
    "# Showcase\n",
    "## Ambrose's Cook Helper\n",
    "\n",
    "Remember the last time you wanted to cook something and didn't quite know the ingredients you were missing? Yesterday, right?\n",
    "\n",
    "Or better yet, those days when you were hungry af (as fish *wink wink*) but had no idea what to cook?\n",
    "\n",
    "That is about to change: today we will build **Ambrose**, your cook helper that matches recipes to your pantry."
   ]
  },
  {
   "cell_type": "markdown",
   "id": "d2158f52-0fc8-4e6a-8a12-1b6835747033",
   "metadata": {},
   "source": [
    "By priority:\n",
    "    \n",
    "1. I have a recipe and some groceries, do I have enough or do I need to go shopping?\n",
    "2. With what I have in the pantry, what can I cook?"
   ]
  },
  {
   "cell_type": "markdown",
   "id": "58197340-c7a7-4d05-b9f6-9ee11b40a423",
   "metadata": {},
   "source": [
    "## Data Types\n",
    "\n",
    "Remember that boring topic of data types and all those possibilities to store data? Look at how handy they are right now.\n",
    "\n",
    "> Choosing the correct data type is crucial to define a good application"
   ]
  },
  {
   "cell_type": "markdown",
   "id": "6fea4f13-37be-4e81-b77a-7a56ca91ece1",
   "metadata": {},
   "source": [
    "For the first steps, let's think about what we will need. There are two main types of concepts we will need:\n",
    "\n",
    "- A recipe: a collection of **ingredients required to cook** and their quantity (let's ignore the cooking steps for now)\n",
    "- A pantry: a collection of **ingredients you do have** available"
   ]
  },
  {
   "cell_type": "markdown",
   "id": "f5648f1a-b615-437d-8fb2-0f155f024bc4",
   "metadata": {},
   "source": [
    "<div class=\"alert alert-warning\">\n",
    "    <b>QUIZ:</b> What should be the <b>data type for a recipe</b>? What about a <b>pantry</b>?\n",
    "</div>"
   ]
  },
  {
   "cell_type": "code",
   "execution_count": 1,
   "id": "ec0f8f9a-04f2-483a-a3e2-83bf7628ebac",
   "metadata": {},
   "outputs": [],
   "source": [
    "pasta_carbonara = {\n",
    "    'spaghetti (g)': 100,\n",
    "    'bacon (g)': 50,\n",
    "    'parmegiano reggiano (g)': 25,\n",
    "    'egg (unit)': 1,\n",
    "}"
   ]
  },
  {
   "cell_type": "code",
   "execution_count": 2,
   "id": "f89b9a73-e9a8-4ff2-9e7f-c9f322becb49",
   "metadata": {},
   "outputs": [],
   "source": [
    "pasta_zucchini = {\n",
    "    'spaghetti (g)': 100,\n",
    "    'zucchini (unit)': 1,\n",
    "    'garlic (clove)': 2,\n",
    "    'olive oil (ml)': 10,\n",
    "}"
   ]
  },
  {
   "cell_type": "code",
   "execution_count": 3,
   "id": "4497370d-2923-4b61-b5ef-e5cc91fd95b4",
   "metadata": {},
   "outputs": [],
   "source": [
    "my_pantry = {\n",
    "    'spaghetti (g)': 200,\n",
    "    'bacon (g)': 100,\n",
    "    'parmegiano reggiano (g)': 20,\n",
    "    'zucchini (unit)': 5,\n",
    "    'olive oil (ml)': 750,\n",
    "    'garlic (clove)': 16,    \n",
    "}"
   ]
  },
  {
   "cell_type": "code",
   "execution_count": 4,
   "id": "c9331670-5d4c-4ac8-8cc9-c2ca5c6f732e",
   "metadata": {},
   "outputs": [],
   "source": [
    "def check_recipe(recipe, pantry, verbose=True):\n",
    "    \"Compares recipe to what you have in the pantry. Returns a mapping of what is missing.\"\n",
    "    \n",
    "    missing = {}\n",
    "    for (ingredient, size) in recipe.items():\n",
    "        if ingredient not in pantry:\n",
    "            missing[ingredient] = size\n",
    "        else:\n",
    "            available = pantry[ingredient]\n",
    "            if size > available:\n",
    "                missing[ingredient] = size - available\n",
    "            else:\n",
    "                if verbose:\n",
    "                    print(f\"Ingredient {ingredient} check. Available {available}, Required {size}\")\n",
    "    if len(missing) > 0 and verbose:\n",
    "        print(\"WARNING: Some ingredients are missing!\")\n",
    "    return missing"
   ]
  },
  {
   "cell_type": "code",
   "execution_count": 5,
   "id": "52ac337f-f444-4a9b-a660-7b345c11f038",
   "metadata": {},
   "outputs": [
    {
     "name": "stdout",
     "output_type": "stream",
     "text": [
      "Ingredient spaghetti (g) check. Available 200, Required 100\n",
      "Ingredient bacon (g) check. Available 100, Required 50\n",
      "WARNING: Some ingredients are missing!\n"
     ]
    },
    {
     "data": {
      "text/plain": [
       "{'parmegiano reggiano (g)': 5, 'egg (unit)': 1}"
      ]
     },
     "execution_count": 5,
     "metadata": {},
     "output_type": "execute_result"
    }
   ],
   "source": [
    "check_recipe(pasta_carbonara, my_pantry)"
   ]
  },
  {
   "cell_type": "markdown",
   "id": "cdb6b657-ce7c-4ebf-a7c6-7c0514a70f8c",
   "metadata": {},
   "source": [
    "## Alternatives\n",
    "\n",
    "Damn! We are missing a couple of things to do the perfect \"Pasta a la carbonara\". But what can we do with what we have?\n",
    "\n",
    "Let's build a list of recipes and check all the recipes that are *cookable* with what we have."
   ]
  },
  {
   "cell_type": "code",
   "execution_count": 6,
   "id": "2bdbd159-7dc5-4a95-bebc-42222d031063",
   "metadata": {},
   "outputs": [],
   "source": [
    "def alternative_recipes(recipe_list: list, pantry: dict):\n",
    "    alternatives = [] \n",
    "    for alternative in recipe_list:\n",
    "        missing = check_recipe(alternative, pantry, verbose=False)\n",
    "        if len(missing) == 0:\n",
    "            alternatives.append(alternative)\n",
    "    return alternatives"
   ]
  },
  {
   "cell_type": "code",
   "execution_count": 7,
   "id": "a44140c4-9920-40ec-8638-52e3fef84c01",
   "metadata": {},
   "outputs": [],
   "source": [
    "MY_RECIPES = [pasta_carbonara, pasta_zucchini]"
   ]
  },
  {
   "cell_type": "code",
   "execution_count": 8,
   "id": "198037d8-d09f-4288-806f-b368a5889dbe",
   "metadata": {},
   "outputs": [
    {
     "data": {
      "text/plain": [
       "[{'spaghetti (g)': 100,\n",
       "  'zucchini (unit)': 1,\n",
       "  'garlic (clove)': 2,\n",
       "  'olive oil (ml)': 10}]"
      ]
     },
     "execution_count": 8,
     "metadata": {},
     "output_type": "execute_result"
    }
   ],
   "source": [
    "alternative_recipes(\n",
    "    recipe_list=MY_RECIPES,\n",
    "    pantry=my_pantry\n",
    ")"
   ]
  },
  {
   "cell_type": "markdown",
   "id": "2db73585-15b5-47b4-85b9-22575bebabe8",
   "metadata": {},
   "source": [
    "## Let's wrap up\n",
    "\n",
    "Let's define our cooking process! Let's check at what we have so far:\n",
    "- `check_recipe`: if we have missing ingredients;\n",
    "- `alternative_recipes`: all the valid recipes we can cook with what we have.\n",
    "\n",
    "Now let's build the whole flow:\n",
    "\n",
    "1. We choose a recipe to cook.\n",
    "1. If we have the ingredients, great! Cook and remove the ingredients from the pantry.\n",
    "1. If not, check for alternative recipes."
   ]
  },
  {
   "cell_type": "code",
   "execution_count": 9,
   "id": "cd5787a1-67bb-4b2b-af34-75742f343af1",
   "metadata": {},
   "outputs": [],
   "source": [
    "def remove_ingredients(recipe, pantry):\n",
    "    \"Remove the ingredients required by a recipe from the pantry.\"\n",
    "    \n",
    "    assert len(check_recipe(recipe, pantry, verbose=False))==0, \"Will not remove. Not enough ingredients for complete recipe.\"\n",
    "    \n",
    "    for (ingredient, size) in recipe.items():\n",
    "        pantry[ingredient] -= size\n",
    "    \n",
    "    print(\"Removed the ingredients from the pantry!\")"
   ]
  },
  {
   "cell_type": "code",
   "execution_count": 10,
   "id": "1c8bf78d-e735-4177-96cf-a8b09c2ad0b9",
   "metadata": {},
   "outputs": [],
   "source": [
    "def cook(recipe: dict, pantry: dict, recipe_list: list):\n",
    "    \n",
    "    missing = check_recipe(recipe, pantry, verbose=False)\n",
    "    if len(missing) == 0:\n",
    "        print(\"Let's cook!\")\n",
    "        remove_ingredients(recipe, pantry)\n",
    "    else:\n",
    "        print(\"Cannot cook this recipe. Here are some alternatives!\")\n",
    "        return alternative_recipes(recipe_list, pantry)"
   ]
  },
  {
   "cell_type": "code",
   "execution_count": 11,
   "id": "5a622b43-30da-4bb4-946a-e15a008735f8",
   "metadata": {},
   "outputs": [
    {
     "name": "stdout",
     "output_type": "stream",
     "text": [
      "Cannot cook this recipe. Here are some alternatives!\n"
     ]
    },
    {
     "data": {
      "text/plain": [
       "[{'spaghetti (g)': 100,\n",
       "  'zucchini (unit)': 1,\n",
       "  'garlic (clove)': 2,\n",
       "  'olive oil (ml)': 10}]"
      ]
     },
     "execution_count": 11,
     "metadata": {},
     "output_type": "execute_result"
    }
   ],
   "source": [
    "cook(pasta_carbonara, my_pantry, MY_RECIPES)"
   ]
  },
  {
   "cell_type": "code",
   "execution_count": 12,
   "id": "1c24538c-5cef-4a04-b1ea-b2c18b66bc8f",
   "metadata": {},
   "outputs": [
    {
     "data": {
      "text/plain": [
       "{'spaghetti (g)': 200,\n",
       " 'bacon (g)': 100,\n",
       " 'parmegiano reggiano (g)': 20,\n",
       " 'zucchini (unit)': 5,\n",
       " 'olive oil (ml)': 750,\n",
       " 'garlic (clove)': 16}"
      ]
     },
     "execution_count": 12,
     "metadata": {},
     "output_type": "execute_result"
    }
   ],
   "source": [
    "my_pantry"
   ]
  },
  {
   "cell_type": "code",
   "execution_count": null,
   "id": "cab882ab-e2be-4891-bbbf-2fab9af674b0",
   "metadata": {},
   "outputs": [
    {
     "name": "stdout",
     "output_type": "stream",
     "text": [
      "Let's cook!\n",
      "Removed the ingredients from the pantry!\n"
     ]
    }
   ],
   "source": [
    "cook(pasta_zucchini, my_pantry, MY_RECIPES)"
   ]
  },
  {
   "cell_type": "code",
   "execution_count": null,
   "id": "1c52df61-c9e7-4c44-b37a-f9f930405bdc",
   "metadata": {},
   "outputs": [
    {
     "data": {
      "text/plain": [
       "{'spaghetti (g)': 100,\n",
       " 'bacon (g)': 100,\n",
       " 'parmegiano reggiano (g)': 20,\n",
       " 'zucchini (unit)': 4,\n",
       " 'olive oil (ml)': 740,\n",
       " 'garlic (clove)': 14}"
      ]
     },
     "execution_count": 14,
     "metadata": {},
     "output_type": "execute_result"
    }
   ],
   "source": [
    "my_pantry"
   ]
  },
  {
   "cell_type": "markdown",
   "id": "3d6da8fe-3ccb-4ebc-bda7-fdac6327372f",
   "metadata": {},
   "source": [
    "Notice how the pantry is smaller now? We have less spaghetti, zucchini, olive oil and garlic cloves - precisely the ingredients we need for our pasta_zucchini we just cook! Enjoy!"
   ]
  }
 ],
 "metadata": {
  "kernelspec": {
   "display_name": "Python 3 (ipykernel)",
   "language": "python",
   "name": "python3"
  },
  "language_info": {
   "codemirror_mode": {
    "name": "ipython",
    "version": 3
   },
   "file_extension": ".py",
   "mimetype": "text/x-python",
   "name": "python",
   "nbconvert_exporter": "python",
   "pygments_lexer": "ipython3",
   "version": "3.10.4"
  }
 },
 "nbformat": 4,
 "nbformat_minor": 5
}
