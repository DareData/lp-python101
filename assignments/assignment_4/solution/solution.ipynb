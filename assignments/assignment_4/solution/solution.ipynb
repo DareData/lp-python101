{
 "cells": [
  {
   "cell_type": "markdown",
   "metadata": {},
   "source": [
    "Given the dict below (you can copy-paste it into your jupyter notebook) of companies with largest market cap, create a new `marketcap_large` dictionary containing only companies above 2$T."
   ]
  },
  {
   "cell_type": "code",
   "execution_count": 1,
   "metadata": {},
   "outputs": [],
   "source": [
    "marketcap = {\n",
    "    \"Apple\": 2.537, \n",
    "    \"Saudi Aramco\": 2.392, \n",
    "    \"Microsoft\": 2.074, \n",
    "    \"Alphabet\": 1.535, \n",
    "    \"Amazon\": 1.184\n",
    "}"
   ]
  },
  {
   "cell_type": "code",
   "execution_count": 4,
   "metadata": {},
   "outputs": [
    {
     "data": {
      "text/plain": [
       "{'Apple': 2.537, 'Saudi Aramco': 2.392, 'Microsoft': 2.074}"
      ]
     },
     "execution_count": 4,
     "metadata": {},
     "output_type": "execute_result"
    }
   ],
   "source": [
    "# using dict comprehension\n",
    "marketcap_large = {k: v for (k,v) in marketcap.items() if v > 2}\n",
    "marketcap_large"
   ]
  },
  {
   "cell_type": "code",
   "execution_count": 5,
   "metadata": {},
   "outputs": [
    {
     "data": {
      "text/plain": [
       "{'Apple': 2.537, 'Saudi Aramco': 2.392, 'Microsoft': 2.074}"
      ]
     },
     "execution_count": 5,
     "metadata": {},
     "output_type": "execute_result"
    }
   ],
   "source": [
    "# using for-loop\n",
    "marketcap_large = {}\n",
    "for company, valuation in marketcap.items():\n",
    "    if valuation > 2:\n",
    "        marketcap_large[company] = valuation\n",
    "        \n",
    "marketcap_large"
   ]
  }
 ],
 "metadata": {
  "kernelspec": {
   "display_name": "Python 3 (ipykernel)",
   "language": "python",
   "name": "python3"
  },
  "language_info": {
   "codemirror_mode": {
    "name": "ipython",
    "version": 3
   },
   "file_extension": ".py",
   "mimetype": "text/x-python",
   "name": "python",
   "nbconvert_exporter": "python",
   "pygments_lexer": "ipython3",
   "version": "3.10.12"
  }
 },
 "nbformat": 4,
 "nbformat_minor": 2
}
