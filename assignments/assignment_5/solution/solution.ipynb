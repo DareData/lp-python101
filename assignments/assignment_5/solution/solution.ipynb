{
 "cells": [
  {
   "cell_type": "markdown",
   "metadata": {},
   "source": [
    "Check which of the built-in functions allows you to:\n",
    "\n",
    "Iterate over multiple iterables at the same time and use it to print full names from names and surnames.\n",
    "    `names = ['Jake','Amy','Raymond','Rosa','Charles','Terry']` and `surnames = ['Peralta','Santiago','Holt','Diaz','Boyle','Jeffords']`\n"
   ]
  },
  {
   "cell_type": "code",
   "execution_count": null,
   "metadata": {},
   "outputs": [],
   "source": [
    "names = ['Jake','Amy','Raymond','Rosa','Charles','Terry']\n",
    "surnames = ['Peralta','Santiago','Holt','Diaz','Boyle','Jeffords']\n",
    "for name, surname in zip(names, surnames):\n",
    "    print(name + \" \" + surname)"
   ]
  },
  {
   "cell_type": "markdown",
   "metadata": {},
   "source": [
    "Get the smallest/largest item in an iterable. Use `numbers = [23e4,14,15.2,2329e-4,4924,2e-1]`"
   ]
  },
  {
   "cell_type": "code",
   "execution_count": 7,
   "metadata": {},
   "outputs": [
    {
     "data": {
      "text/plain": [
       "0.2"
      ]
     },
     "execution_count": 7,
     "metadata": {},
     "output_type": "execute_result"
    }
   ],
   "source": [
    "numbers = [23e4,14,15.2,2329e-4,4924,2e-1]\n",
    "smallest = min(numbers)\n",
    "smallest"
   ]
  },
  {
   "cell_type": "code",
   "execution_count": 8,
   "metadata": {},
   "outputs": [
    {
     "data": {
      "text/plain": [
       "230000.0"
      ]
     },
     "execution_count": 8,
     "metadata": {},
     "output_type": "execute_result"
    }
   ],
   "source": [
    "largest = max(numbers)\n",
    "largest"
   ]
  },
  {
   "cell_type": "markdown",
   "metadata": {},
   "source": [
    "Check if any element of an iterable is True. Use `list_with_true = [1,4,\"ChatGPT\",True,13.4]`, `list_with_true_2 = [1,4,\"ChatGPT\",False,13.4]` and `list_without_true = [0,0,\"\",False,False]`. Notice that Python interprets False, 0 or empty strings as False while the rest of the elements as True."
   ]
  },
  {
   "cell_type": "code",
   "execution_count": 17,
   "metadata": {},
   "outputs": [
    {
     "data": {
      "text/plain": [
       "True"
      ]
     },
     "execution_count": 17,
     "metadata": {},
     "output_type": "execute_result"
    }
   ],
   "source": [
    "list_with_true = [1,4,\"ChatGPT\",True,13.4]\n",
    "any(list_with_true)"
   ]
  },
  {
   "cell_type": "code",
   "execution_count": 18,
   "metadata": {},
   "outputs": [
    {
     "data": {
      "text/plain": [
       "True"
      ]
     },
     "execution_count": 18,
     "metadata": {},
     "output_type": "execute_result"
    }
   ],
   "source": [
    "# Notice that Python interprets False, 0 or empty strings as False while the rest of the elements as True\n",
    "list_with_true_2 = [1,4,\"ChatGPT\",False,13.4]\n",
    "any(list_with_true_2)"
   ]
  },
  {
   "cell_type": "code",
   "execution_count": 19,
   "metadata": {},
   "outputs": [
    {
     "data": {
      "text/plain": [
       "False"
      ]
     },
     "execution_count": 19,
     "metadata": {},
     "output_type": "execute_result"
    }
   ],
   "source": [
    "# Here you have a couple of Falses\n",
    "list_without_true = [0,0,\"\",False,False]\n",
    "any(list_without_true)"
   ]
  },
  {
   "cell_type": "markdown",
   "metadata": {},
   "source": [
    "Check if all elements of an iterable are True. You can reuse `list_with_true` and `list_with_true_2`."
   ]
  },
  {
   "cell_type": "code",
   "execution_count": 20,
   "metadata": {},
   "outputs": [
    {
     "data": {
      "text/plain": [
       "True"
      ]
     },
     "execution_count": 20,
     "metadata": {},
     "output_type": "execute_result"
    }
   ],
   "source": [
    "all(list_with_true)"
   ]
  },
  {
   "cell_type": "code",
   "execution_count": 21,
   "metadata": {},
   "outputs": [
    {
     "data": {
      "text/plain": [
       "False"
      ]
     },
     "execution_count": 21,
     "metadata": {},
     "output_type": "execute_result"
    }
   ],
   "source": [
    "all(list_with_true_2)"
   ]
  }
 ],
 "metadata": {
  "kernelspec": {
   "display_name": "Python 3 (ipykernel)",
   "language": "python",
   "name": "python3"
  },
  "language_info": {
   "codemirror_mode": {
    "name": "ipython",
    "version": 3
   },
   "file_extension": ".py",
   "mimetype": "text/x-python",
   "name": "python",
   "nbconvert_exporter": "python",
   "pygments_lexer": "ipython3",
   "version": "3.10.12"
  }
 },
 "nbformat": 4,
 "nbformat_minor": 2
}
